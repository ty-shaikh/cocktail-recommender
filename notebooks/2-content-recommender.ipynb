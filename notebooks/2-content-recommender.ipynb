{
 "cells": [
  {
   "cell_type": "code",
   "execution_count": 1,
   "metadata": {},
   "outputs": [],
   "source": [
    "# Imports\n",
    "import pickle\n",
    "\n",
    "import pandas as pd\n",
    "from fuzzywuzzy import fuzz, process\n",
    "from sklearn.metrics import pairwise_distances"
   ]
  },
  {
   "cell_type": "code",
   "execution_count": 2,
   "metadata": {},
   "outputs": [],
   "source": [
    "# Import processed data from previous step\n",
    "df = pickle.load(open(\"../data/dataframe.p\", \"rb\"))\n",
    "ingredients = pickle.load(open(\"../data/ingredients.p\", \"rb\"))"
   ]
  },
  {
   "cell_type": "code",
   "execution_count": 3,
   "metadata": {},
   "outputs": [
    {
     "data": {
      "text/html": [
       "<div>\n",
       "<style scoped>\n",
       "    .dataframe tbody tr th:only-of-type {\n",
       "        vertical-align: middle;\n",
       "    }\n",
       "\n",
       "    .dataframe tbody tr th {\n",
       "        vertical-align: top;\n",
       "    }\n",
       "\n",
       "    .dataframe thead th {\n",
       "        text-align: right;\n",
       "    }\n",
       "</style>\n",
       "<table border=\"1\" class=\"dataframe\">\n",
       "  <thead>\n",
       "    <tr style=\"text-align: right;\">\n",
       "      <th></th>\n",
       "      <th>strDrink</th>\n",
       "      <th>dateModified</th>\n",
       "      <th>idDrink</th>\n",
       "      <th>strAlcoholic</th>\n",
       "      <th>strCategory</th>\n",
       "      <th>strDrinkThumb</th>\n",
       "      <th>strGlass</th>\n",
       "      <th>strIBA</th>\n",
       "      <th>strIngredient1</th>\n",
       "      <th>strIngredient10</th>\n",
       "      <th>...</th>\n",
       "      <th>strMeasure15</th>\n",
       "      <th>strMeasure2</th>\n",
       "      <th>strMeasure3</th>\n",
       "      <th>strMeasure4</th>\n",
       "      <th>strMeasure5</th>\n",
       "      <th>strMeasure6</th>\n",
       "      <th>strMeasure7</th>\n",
       "      <th>strMeasure8</th>\n",
       "      <th>strMeasure9</th>\n",
       "      <th>strVideo</th>\n",
       "    </tr>\n",
       "  </thead>\n",
       "  <tbody>\n",
       "    <tr>\n",
       "      <th>0</th>\n",
       "      <td>'57 Chevy with a White License Plate</td>\n",
       "      <td>2016-07-18 22:49:04</td>\n",
       "      <td>14029</td>\n",
       "      <td>alcoholic</td>\n",
       "      <td>Cocktail</td>\n",
       "      <td>http://www.thecocktaildb.com/images/media/drin...</td>\n",
       "      <td>highball glass</td>\n",
       "      <td>NaN</td>\n",
       "      <td>Creme de Cacao</td>\n",
       "      <td>NaN</td>\n",
       "      <td>...</td>\n",
       "      <td>NaN</td>\n",
       "      <td>1 oz</td>\n",
       "      <td></td>\n",
       "      <td></td>\n",
       "      <td></td>\n",
       "      <td></td>\n",
       "      <td></td>\n",
       "      <td>NaN</td>\n",
       "      <td>NaN</td>\n",
       "      <td>NaN</td>\n",
       "    </tr>\n",
       "    <tr>\n",
       "      <th>1</th>\n",
       "      <td>1-900-FUK-MEUP</td>\n",
       "      <td>2016-07-18 22:27:04</td>\n",
       "      <td>15395</td>\n",
       "      <td>alcoholic</td>\n",
       "      <td>Shot</td>\n",
       "      <td>http://www.thecocktaildb.com/images/media/drin...</td>\n",
       "      <td>old-fashioned glass</td>\n",
       "      <td>NaN</td>\n",
       "      <td>Absolut Kurant</td>\n",
       "      <td>NaN</td>\n",
       "      <td>...</td>\n",
       "      <td>NaN</td>\n",
       "      <td>1/4 oz</td>\n",
       "      <td>1/4 oz</td>\n",
       "      <td>1/4 oz</td>\n",
       "      <td>1/4 oz</td>\n",
       "      <td>1/4 oz</td>\n",
       "      <td>1/2 oz</td>\n",
       "      <td>1/4 oz</td>\n",
       "      <td></td>\n",
       "      <td>NaN</td>\n",
       "    </tr>\n",
       "    <tr>\n",
       "      <th>2</th>\n",
       "      <td>110 in the shade</td>\n",
       "      <td>2016-02-03 14:51:57</td>\n",
       "      <td>15423</td>\n",
       "      <td>alcoholic</td>\n",
       "      <td>Beer</td>\n",
       "      <td>http://www.thecocktaildb.com/images/media/drin...</td>\n",
       "      <td>beer glass</td>\n",
       "      <td>NaN</td>\n",
       "      <td>Lager</td>\n",
       "      <td>NaN</td>\n",
       "      <td>...</td>\n",
       "      <td>NaN</td>\n",
       "      <td>1.5 oz</td>\n",
       "      <td></td>\n",
       "      <td></td>\n",
       "      <td></td>\n",
       "      <td></td>\n",
       "      <td></td>\n",
       "      <td>NaN</td>\n",
       "      <td>NaN</td>\n",
       "      <td>NaN</td>\n",
       "    </tr>\n",
       "    <tr>\n",
       "      <th>3</th>\n",
       "      <td>151 Florida Bushwacker</td>\n",
       "      <td>2016-07-18 22:28:43</td>\n",
       "      <td>14588</td>\n",
       "      <td>alcoholic</td>\n",
       "      <td>Milk / Float / Shake</td>\n",
       "      <td>http://www.thecocktaildb.com/images/media/drin...</td>\n",
       "      <td>beer mug</td>\n",
       "      <td>NaN</td>\n",
       "      <td>Malibu rum</td>\n",
       "      <td>NaN</td>\n",
       "      <td>...</td>\n",
       "      <td>NaN</td>\n",
       "      <td>1/2 oz</td>\n",
       "      <td>1/2 oz Bacardi</td>\n",
       "      <td>1 oz</td>\n",
       "      <td>1 oz</td>\n",
       "      <td>3 oz</td>\n",
       "      <td>1 oz</td>\n",
       "      <td>1 cup</td>\n",
       "      <td></td>\n",
       "      <td>NaN</td>\n",
       "    </tr>\n",
       "    <tr>\n",
       "      <th>4</th>\n",
       "      <td>155 Belmont</td>\n",
       "      <td>2016-10-05 12:36:28</td>\n",
       "      <td>15346</td>\n",
       "      <td>alcoholic</td>\n",
       "      <td>Cocktail</td>\n",
       "      <td>http://www.thecocktaildb.com/images/media/drin...</td>\n",
       "      <td>white wine glass</td>\n",
       "      <td>NaN</td>\n",
       "      <td>Dark rum</td>\n",
       "      <td>NaN</td>\n",
       "      <td>...</td>\n",
       "      <td>NaN</td>\n",
       "      <td>2 shots</td>\n",
       "      <td>1 shot</td>\n",
       "      <td>1 shot</td>\n",
       "      <td></td>\n",
       "      <td></td>\n",
       "      <td></td>\n",
       "      <td></td>\n",
       "      <td></td>\n",
       "      <td>NaN</td>\n",
       "    </tr>\n",
       "  </tbody>\n",
       "</table>\n",
       "<p>5 rows × 40 columns</p>\n",
       "</div>"
      ],
      "text/plain": [
       "                               strDrink         dateModified  idDrink  \\\n",
       "0  '57 Chevy with a White License Plate  2016-07-18 22:49:04    14029   \n",
       "1                        1-900-FUK-MEUP  2016-07-18 22:27:04    15395   \n",
       "2                      110 in the shade  2016-02-03 14:51:57    15423   \n",
       "3                151 Florida Bushwacker  2016-07-18 22:28:43    14588   \n",
       "4                           155 Belmont  2016-10-05 12:36:28    15346   \n",
       "\n",
       "  strAlcoholic           strCategory  \\\n",
       "0    alcoholic              Cocktail   \n",
       "1    alcoholic                  Shot   \n",
       "2    alcoholic                  Beer   \n",
       "3    alcoholic  Milk / Float / Shake   \n",
       "4    alcoholic              Cocktail   \n",
       "\n",
       "                                       strDrinkThumb             strGlass  \\\n",
       "0  http://www.thecocktaildb.com/images/media/drin...       highball glass   \n",
       "1  http://www.thecocktaildb.com/images/media/drin...  old-fashioned glass   \n",
       "2  http://www.thecocktaildb.com/images/media/drin...           beer glass   \n",
       "3  http://www.thecocktaildb.com/images/media/drin...             beer mug   \n",
       "4  http://www.thecocktaildb.com/images/media/drin...     white wine glass   \n",
       "\n",
       "  strIBA  strIngredient1 strIngredient10  ... strMeasure15 strMeasure2  \\\n",
       "0    NaN  Creme de Cacao             NaN  ...          NaN       1 oz    \n",
       "1    NaN  Absolut Kurant             NaN  ...          NaN     1/4 oz    \n",
       "2    NaN           Lager             NaN  ...          NaN     1.5 oz    \n",
       "3    NaN      Malibu rum             NaN  ...          NaN     1/2 oz    \n",
       "4    NaN        Dark rum             NaN  ...          NaN    2 shots    \n",
       "\n",
       "       strMeasure3  strMeasure4  strMeasure5 strMeasure6 strMeasure7  \\\n",
       "0                                                                      \n",
       "1          1/4 oz       1/4 oz       1/4 oz      1/4 oz      1/2 oz    \n",
       "2                                                                      \n",
       "3  1/2 oz Bacardi         1 oz         1 oz        3 oz        1 oz    \n",
       "4          1 shot       1 shot                                         \n",
       "\n",
       "  strMeasure8 strMeasure9 strVideo  \n",
       "0         NaN         NaN      NaN  \n",
       "1     1/4 oz                   NaN  \n",
       "2         NaN         NaN      NaN  \n",
       "3      1 cup                   NaN  \n",
       "4                              NaN  \n",
       "\n",
       "[5 rows x 40 columns]"
      ]
     },
     "execution_count": 3,
     "metadata": {},
     "output_type": "execute_result"
    }
   ],
   "source": [
    "df.head()"
   ]
  },
  {
   "cell_type": "code",
   "execution_count": 4,
   "metadata": {},
   "outputs": [
    {
     "data": {
      "text/html": [
       "<div>\n",
       "<style scoped>\n",
       "    .dataframe tbody tr th:only-of-type {\n",
       "        vertical-align: middle;\n",
       "    }\n",
       "\n",
       "    .dataframe tbody tr th {\n",
       "        vertical-align: top;\n",
       "    }\n",
       "\n",
       "    .dataframe thead th {\n",
       "        text-align: right;\n",
       "    }\n",
       "</style>\n",
       "<table border=\"1\" class=\"dataframe\">\n",
       "  <thead>\n",
       "    <tr style=\"text-align: right;\">\n",
       "      <th></th>\n",
       "      <th>151 proof rum</th>\n",
       "      <th>7-up</th>\n",
       "      <th>absinthe</th>\n",
       "      <th>absolut citron</th>\n",
       "      <th>absolut kurant</th>\n",
       "      <th>absolut peppar</th>\n",
       "      <th>absolut vodka</th>\n",
       "      <th>advocaat</th>\n",
       "      <th>agave syrup</th>\n",
       "      <th>ale</th>\n",
       "      <th>...</th>\n",
       "      <th>white creme de menthe</th>\n",
       "      <th>white rum</th>\n",
       "      <th>wild turkey</th>\n",
       "      <th>wine</th>\n",
       "      <th>worcestershire sauce</th>\n",
       "      <th>wormwood</th>\n",
       "      <th>yellow chartreuse</th>\n",
       "      <th>yoghurt</th>\n",
       "      <th>yukon jack</th>\n",
       "      <th>zima</th>\n",
       "    </tr>\n",
       "    <tr>\n",
       "      <th>idDrink</th>\n",
       "      <th></th>\n",
       "      <th></th>\n",
       "      <th></th>\n",
       "      <th></th>\n",
       "      <th></th>\n",
       "      <th></th>\n",
       "      <th></th>\n",
       "      <th></th>\n",
       "      <th></th>\n",
       "      <th></th>\n",
       "      <th></th>\n",
       "      <th></th>\n",
       "      <th></th>\n",
       "      <th></th>\n",
       "      <th></th>\n",
       "      <th></th>\n",
       "      <th></th>\n",
       "      <th></th>\n",
       "      <th></th>\n",
       "      <th></th>\n",
       "      <th></th>\n",
       "    </tr>\n",
       "  </thead>\n",
       "  <tbody>\n",
       "    <tr>\n",
       "      <th>14029</th>\n",
       "      <td>NaN</td>\n",
       "      <td>NaN</td>\n",
       "      <td>NaN</td>\n",
       "      <td>NaN</td>\n",
       "      <td>NaN</td>\n",
       "      <td>NaN</td>\n",
       "      <td>NaN</td>\n",
       "      <td>NaN</td>\n",
       "      <td>NaN</td>\n",
       "      <td>NaN</td>\n",
       "      <td>...</td>\n",
       "      <td>NaN</td>\n",
       "      <td>NaN</td>\n",
       "      <td>NaN</td>\n",
       "      <td>NaN</td>\n",
       "      <td>NaN</td>\n",
       "      <td>NaN</td>\n",
       "      <td>NaN</td>\n",
       "      <td>NaN</td>\n",
       "      <td>NaN</td>\n",
       "      <td>NaN</td>\n",
       "    </tr>\n",
       "    <tr>\n",
       "      <th>15395</th>\n",
       "      <td>NaN</td>\n",
       "      <td>NaN</td>\n",
       "      <td>NaN</td>\n",
       "      <td>NaN</td>\n",
       "      <td>1.0</td>\n",
       "      <td>NaN</td>\n",
       "      <td>NaN</td>\n",
       "      <td>NaN</td>\n",
       "      <td>NaN</td>\n",
       "      <td>NaN</td>\n",
       "      <td>...</td>\n",
       "      <td>NaN</td>\n",
       "      <td>NaN</td>\n",
       "      <td>NaN</td>\n",
       "      <td>NaN</td>\n",
       "      <td>NaN</td>\n",
       "      <td>NaN</td>\n",
       "      <td>NaN</td>\n",
       "      <td>NaN</td>\n",
       "      <td>NaN</td>\n",
       "      <td>NaN</td>\n",
       "    </tr>\n",
       "    <tr>\n",
       "      <th>15423</th>\n",
       "      <td>NaN</td>\n",
       "      <td>NaN</td>\n",
       "      <td>NaN</td>\n",
       "      <td>NaN</td>\n",
       "      <td>NaN</td>\n",
       "      <td>NaN</td>\n",
       "      <td>NaN</td>\n",
       "      <td>NaN</td>\n",
       "      <td>NaN</td>\n",
       "      <td>NaN</td>\n",
       "      <td>...</td>\n",
       "      <td>NaN</td>\n",
       "      <td>NaN</td>\n",
       "      <td>NaN</td>\n",
       "      <td>NaN</td>\n",
       "      <td>NaN</td>\n",
       "      <td>NaN</td>\n",
       "      <td>NaN</td>\n",
       "      <td>NaN</td>\n",
       "      <td>NaN</td>\n",
       "      <td>NaN</td>\n",
       "    </tr>\n",
       "    <tr>\n",
       "      <th>14588</th>\n",
       "      <td>1.0</td>\n",
       "      <td>NaN</td>\n",
       "      <td>NaN</td>\n",
       "      <td>NaN</td>\n",
       "      <td>NaN</td>\n",
       "      <td>NaN</td>\n",
       "      <td>NaN</td>\n",
       "      <td>NaN</td>\n",
       "      <td>NaN</td>\n",
       "      <td>NaN</td>\n",
       "      <td>...</td>\n",
       "      <td>NaN</td>\n",
       "      <td>NaN</td>\n",
       "      <td>NaN</td>\n",
       "      <td>NaN</td>\n",
       "      <td>NaN</td>\n",
       "      <td>NaN</td>\n",
       "      <td>NaN</td>\n",
       "      <td>NaN</td>\n",
       "      <td>NaN</td>\n",
       "      <td>NaN</td>\n",
       "    </tr>\n",
       "    <tr>\n",
       "      <th>15346</th>\n",
       "      <td>NaN</td>\n",
       "      <td>NaN</td>\n",
       "      <td>NaN</td>\n",
       "      <td>NaN</td>\n",
       "      <td>NaN</td>\n",
       "      <td>NaN</td>\n",
       "      <td>NaN</td>\n",
       "      <td>NaN</td>\n",
       "      <td>NaN</td>\n",
       "      <td>NaN</td>\n",
       "      <td>...</td>\n",
       "      <td>NaN</td>\n",
       "      <td>NaN</td>\n",
       "      <td>NaN</td>\n",
       "      <td>NaN</td>\n",
       "      <td>NaN</td>\n",
       "      <td>NaN</td>\n",
       "      <td>NaN</td>\n",
       "      <td>NaN</td>\n",
       "      <td>NaN</td>\n",
       "      <td>NaN</td>\n",
       "    </tr>\n",
       "  </tbody>\n",
       "</table>\n",
       "<p>5 rows × 308 columns</p>\n",
       "</div>"
      ],
      "text/plain": [
       "         151 proof rum  7-up  absinthe  absolut citron  absolut kurant  \\\n",
       "idDrink                                                                  \n",
       "14029              NaN   NaN       NaN             NaN             NaN   \n",
       "15395              NaN   NaN       NaN             NaN             1.0   \n",
       "15423              NaN   NaN       NaN             NaN             NaN   \n",
       "14588              1.0   NaN       NaN             NaN             NaN   \n",
       "15346              NaN   NaN       NaN             NaN             NaN   \n",
       "\n",
       "         absolut peppar  absolut vodka  advocaat  agave syrup  ale  ...  \\\n",
       "idDrink                                                             ...   \n",
       "14029               NaN            NaN       NaN          NaN  NaN  ...   \n",
       "15395               NaN            NaN       NaN          NaN  NaN  ...   \n",
       "15423               NaN            NaN       NaN          NaN  NaN  ...   \n",
       "14588               NaN            NaN       NaN          NaN  NaN  ...   \n",
       "15346               NaN            NaN       NaN          NaN  NaN  ...   \n",
       "\n",
       "         white creme de menthe  white rum  wild turkey  wine  \\\n",
       "idDrink                                                        \n",
       "14029                      NaN        NaN          NaN   NaN   \n",
       "15395                      NaN        NaN          NaN   NaN   \n",
       "15423                      NaN        NaN          NaN   NaN   \n",
       "14588                      NaN        NaN          NaN   NaN   \n",
       "15346                      NaN        NaN          NaN   NaN   \n",
       "\n",
       "         worcestershire sauce  wormwood  yellow chartreuse  yoghurt  \\\n",
       "idDrink                                                               \n",
       "14029                     NaN       NaN                NaN      NaN   \n",
       "15395                     NaN       NaN                NaN      NaN   \n",
       "15423                     NaN       NaN                NaN      NaN   \n",
       "14588                     NaN       NaN                NaN      NaN   \n",
       "15346                     NaN       NaN                NaN      NaN   \n",
       "\n",
       "         yukon jack  zima  \n",
       "idDrink                    \n",
       "14029           NaN   NaN  \n",
       "15395           NaN   NaN  \n",
       "15423           NaN   NaN  \n",
       "14588           NaN   NaN  \n",
       "15346           NaN   NaN  \n",
       "\n",
       "[5 rows x 308 columns]"
      ]
     },
     "execution_count": 4,
     "metadata": {},
     "output_type": "execute_result"
    }
   ],
   "source": [
    "ingredients.head()"
   ]
  },
  {
   "cell_type": "markdown",
   "metadata": {},
   "source": [
    "## Recommendations based on title\n",
    "\n",
    "This system is a good starting point for recommending cocktails to users based on the their selection. It doesn't require any historical data beyond the one recipe. This type of system is content-based, becuase it depends only on the content (cocktail title) not on user histories.\n",
    "\n",
    "The approach compares all the cocktails in the database to the one input from the user. It returns the cocktails with the most similar names.\n",
    "\n",
    "The measure of similarity here is Levenshtein distance, which is a fast metric to compute. It requires only the string titles and measures the difference between two sequences. Fewer differences between sequences means lower distance."
   ]
  },
  {
   "cell_type": "code",
   "execution_count": 5,
   "metadata": {},
   "outputs": [],
   "source": [
    "query = 'Gin and Tonic'\n",
    "choices = df['strDrink'].values.tolist()"
   ]
  },
  {
   "cell_type": "code",
   "execution_count": 6,
   "metadata": {},
   "outputs": [
    {
     "name": "stdout",
     "output_type": "stream",
     "text": [
      "[('Gin And Tonic', 100), ('Vodka And Tonic', 82), ('Addington', 64), ('London Town', 58), ('Gin Daisy', 55), ('Gin Fizz', 55)]\n"
     ]
    }
   ],
   "source": [
    "matches = process.extract(query, choices, limit=6, scorer=fuzz.token_set_ratio)\n",
    "print(matches)"
   ]
  },
  {
   "cell_type": "code",
   "execution_count": 7,
   "metadata": {},
   "outputs": [
    {
     "data": {
      "text/plain": [
       "['Vodka And Tonic', 'Addington', 'London Town', 'Gin Daisy', 'Gin Fizz']"
      ]
     },
     "execution_count": 7,
     "metadata": {},
     "output_type": "execute_result"
    }
   ],
   "source": [
    "choices = matches[1:]\n",
    "choices_names = [val[0] for val in choices]\n",
    "choices_names"
   ]
  },
  {
   "cell_type": "code",
   "execution_count": 8,
   "metadata": {},
   "outputs": [
    {
     "name": "stdout",
     "output_type": "stream",
     "text": [
      "If you like Gin and Tonic, you should try these drinks:\n",
      "Vodka And Tonic\n",
      "Addington\n",
      "London Town\n",
      "Gin Daisy\n",
      "Gin Fizz\n"
     ]
    }
   ],
   "source": [
    "print(f'If you like {query}, you should try these drinks:')\n",
    "for val in choices_names:\n",
    "    print(f'{val}')"
   ]
  },
  {
   "cell_type": "markdown",
   "metadata": {},
   "source": [
    "## Recommendations based on ingredients\n",
    "\n",
    "This system is an upgrade for recommending cocktails to users based on the their selection. It doesn't require any historical data beyond the one recipe. This type of system is content-based, becuase it depends only on the content (cocktail ingredients) not on user histories.\n",
    "\n",
    "The approach compares all the cocktails in the database to the one input from the user. It returns the cocktails with the most similar ingredients.\n",
    "\n",
    "The measure of similarity here is cosine similarity, which is a fast metric to compute. It requires only the binary ingredients and measures the angles between recipe vectors. Smaller angles between vectors means higher similarity."
   ]
  },
  {
   "cell_type": "code",
   "execution_count": 9,
   "metadata": {},
   "outputs": [],
   "source": [
    "query = 'Gin and Tonic'\n",
    "choices = df['strDrink'].values.tolist()"
   ]
  },
  {
   "cell_type": "code",
   "execution_count": 10,
   "metadata": {},
   "outputs": [
    {
     "name": "stdout",
     "output_type": "stream",
     "text": [
      "[('Gin And Tonic', 100), ('Vodka And Tonic', 82), ('Addington', 64), ('London Town', 58), ('Gin Daisy', 55), ('Gin Fizz', 55)]\n"
     ]
    }
   ],
   "source": [
    "matches = process.extract(query, choices, limit=6, scorer=fuzz.token_set_ratio)\n",
    "print(matches)"
   ]
  },
  {
   "cell_type": "code",
   "execution_count": 11,
   "metadata": {},
   "outputs": [
    {
     "data": {
      "text/plain": [
       "11403"
      ]
     },
     "execution_count": 11,
     "metadata": {},
     "output_type": "execute_result"
    }
   ],
   "source": [
    "top_choice = matches[0]\n",
    "top_choice_idx = choices.index(top_choice[0])\n",
    "top_choice_row = df.iloc[top_choice_idx, :]\n",
    "cocktail_id = top_choice_row['idDrink']\n",
    "cocktail_id"
   ]
  },
  {
   "cell_type": "code",
   "execution_count": 12,
   "metadata": {},
   "outputs": [],
   "source": [
    "def cos_sim_matrix(M):\n",
    "    \"Create cosine similarity matrix\"\n",
    "    \n",
    "    sims = 1 - pairwise_distances(M.values, metric='cosine')\n",
    "    sim_matrix = pd.DataFrame(sims, index=M.index, columns=M.index).fillna(0)\n",
    "    return sim_matrix"
   ]
  },
  {
   "cell_type": "code",
   "execution_count": 13,
   "metadata": {},
   "outputs": [],
   "source": [
    "ingredients.fillna(0, inplace=True)"
   ]
  },
  {
   "cell_type": "code",
   "execution_count": 14,
   "metadata": {},
   "outputs": [
    {
     "data": {
      "text/plain": [
       "(546, 546)"
      ]
     },
     "execution_count": 14,
     "metadata": {},
     "output_type": "execute_result"
    }
   ],
   "source": [
    "cos_scores = cos_sim_matrix(ingredients.select_dtypes(exclude=['O']))\n",
    "cos_scores.shape"
   ]
  },
  {
   "cell_type": "code",
   "execution_count": 15,
   "metadata": {},
   "outputs": [],
   "source": [
    "def get_similar_cocktails(cocktail_id, top_n, cscores, cocktail_data):\n",
    "    \"\"\" Return best matches to a cocktail based on cosine similarity\n",
    "    \n",
    "        cocktail_id: numeric cocktail id\n",
    "        top_n: number of best matches to return\n",
    "        cscores: cosine similarity matrix for cocktails as dataframe with cocktail id's\n",
    "        recipe_data: the dataframe of all available cocktails with ingredients\n",
    "    \"\"\"\n",
    "    top_cocktail_scores = cscores.drop(cocktail_id, axis=1).loc[cocktail_id, :].nlargest(top_n)  \n",
    "    similar_cocktail_ids = top_cocktail_scores.index.values\n",
    "    similar_cocktails = cocktail_data[cocktail_data.idDrink.isin(similar_cocktail_ids)]    \n",
    "    last_cocktail = cocktail_data[cocktail_data.idDrink == cocktail_id]\n",
    "    \n",
    "    return top_cocktail_scores, similar_cocktails"
   ]
  },
  {
   "cell_type": "code",
   "execution_count": 16,
   "metadata": {},
   "outputs": [],
   "source": [
    "# Take a random cocktail, instead of user input\n",
    "# cocktail_id = cos_scores.sample(1).index.values[0]"
   ]
  },
  {
   "cell_type": "code",
   "execution_count": 17,
   "metadata": {},
   "outputs": [],
   "source": [
    "scores, cocktails = get_similar_cocktails(cocktail_id, 5, cos_scores, df)"
   ]
  },
  {
   "cell_type": "code",
   "execution_count": 18,
   "metadata": {},
   "outputs": [
    {
     "name": "stdout",
     "output_type": "stream",
     "text": [
      "If you like Gin And Tonic, you should try these drinks:\n",
      "AT&T\n",
      "Archbishop\n",
      "Dragonfly\n",
      "Gin Rickey\n",
      "Long vodka\n"
     ]
    }
   ],
   "source": [
    "last_cocktail = df[df.idDrink == cocktail_id]\n",
    "last_cocktail_name = last_cocktail['strDrink'].values[0]\n",
    "\n",
    "print(f\"If you like {last_cocktail_name}, you should try these drinks:\")\n",
    "for val in cocktails['strDrink']:\n",
    "    print(f\"{val}\")"
   ]
  },
  {
   "cell_type": "code",
   "execution_count": null,
   "metadata": {},
   "outputs": [],
   "source": []
  }
 ],
 "metadata": {
  "kernelspec": {
   "display_name": "Python 3",
   "language": "python",
   "name": "python3"
  },
  "language_info": {
   "codemirror_mode": {
    "name": "ipython",
    "version": 3
   },
   "file_extension": ".py",
   "mimetype": "text/x-python",
   "name": "python",
   "nbconvert_exporter": "python",
   "pygments_lexer": "ipython3",
   "version": "3.7.3"
  }
 },
 "nbformat": 4,
 "nbformat_minor": 2
}
